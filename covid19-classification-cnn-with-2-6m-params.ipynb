{
 "cells": [
  {
   "cell_type": "code",
   "execution_count": 1,
   "metadata": {
    "_cell_guid": "b1076dfc-b9ad-4769-8c92-a6c4dae69d19",
    "_uuid": "8f2839f25d086af736a60e9eeb907d3b93b6e0e5",
    "execution": {
     "iopub.execute_input": "2021-08-07T09:30:02.709010Z",
     "iopub.status.busy": "2021-08-07T09:30:02.708409Z",
     "iopub.status.idle": "2021-08-07T09:30:08.114383Z",
     "shell.execute_reply": "2021-08-07T09:30:08.113373Z",
     "shell.execute_reply.started": "2021-08-07T09:25:51.410662Z"
    },
    "papermill": {
     "duration": 5.425738,
     "end_time": "2021-08-07T09:30:08.114501",
     "exception": false,
     "start_time": "2021-08-07T09:30:02.688763",
     "status": "completed"
    },
    "tags": []
   },
   "outputs": [],
   "source": [
    "import os\n",
    "import cv2\n",
    "import numpy as np\n",
    "import matplotlib.pyplot as plt\n",
    "from tqdm.notebook import tqdm\n",
    "import pandas as pd\n",
    "from keras.utils import plot_model\n",
    "from keras import models\n",
    "from keras import layers\n",
    "from sklearn.model_selection import train_test_split\n",
    "from sklearn.metrics import f1_score, roc_curve, auc, precision_score, accuracy_score, confusion_matrix"
   ]
  },
  {
   "cell_type": "code",
   "execution_count": 2,
   "metadata": {
    "execution": {
     "iopub.execute_input": "2021-08-07T09:30:08.178776Z",
     "iopub.status.busy": "2021-08-07T09:30:08.178067Z",
     "iopub.status.idle": "2021-08-07T09:30:08.180922Z",
     "shell.execute_reply": "2021-08-07T09:30:08.180496Z",
     "shell.execute_reply.started": "2021-08-07T09:25:57.200658Z"
    },
    "papermill": {
     "duration": 0.022314,
     "end_time": "2021-08-07T09:30:08.181012",
     "exception": false,
     "start_time": "2021-08-07T09:30:08.158698",
     "status": "completed"
    },
    "tags": []
   },
   "outputs": [],
   "source": [
    "def read_image(filepath):\n",
    "    return cv2.imread(os.path.join(data_dir, filepath)) \n",
    "\n",
    "def resize_image(image, image_size):\n",
    "    return cv2.resize(image.copy(), image_size, interpolation = cv2.INTER_AREA)"
   ]
  },
  {
   "cell_type": "code",
   "execution_count": 25,
   "metadata": {
    "execution": {
     "iopub.execute_input": "2021-08-07T09:30:08.243592Z",
     "iopub.status.busy": "2021-08-07T09:30:08.242819Z",
     "iopub.status.idle": "2021-08-07T09:30:08.245179Z",
     "shell.execute_reply": "2021-08-07T09:30:08.245617Z",
     "shell.execute_reply.started": "2021-08-07T09:25:57.210083Z"
    },
    "papermill": {
     "duration": 0.021194,
     "end_time": "2021-08-07T09:30:08.245721",
     "exception": false,
     "start_time": "2021-08-07T09:30:08.224527",
     "status": "completed"
    },
    "tags": []
   },
   "outputs": [],
   "source": [
    "disease_types=['covid', 'normal']\n",
    "data_dir = '/Users/Mohammad/Desktop/data3/'\n",
    "train_dir = os.path.join(data_dir)"
   ]
  },
  {
   "cell_type": "code",
   "execution_count": 26,
   "metadata": {
    "execution": {
     "iopub.execute_input": "2021-08-07T09:30:08.280324Z",
     "iopub.status.busy": "2021-08-07T09:30:08.279830Z",
     "iopub.status.idle": "2021-08-07T09:30:08.671492Z",
     "shell.execute_reply": "2021-08-07T09:30:08.671000Z",
     "shell.execute_reply.started": "2021-08-07T09:25:57.225205Z"
    },
    "papermill": {
     "duration": 0.411111,
     "end_time": "2021-08-07T09:30:08.671613",
     "exception": false,
     "start_time": "2021-08-07T09:30:08.260502",
     "status": "completed"
    },
    "tags": []
   },
   "outputs": [],
   "source": [
    "train_data = []\n",
    "for defects_id, sp in enumerate(disease_types):\n",
    "    for file in os.listdir(os.path.join(train_dir, sp)):\n",
    "        train_data.append(['{}/{}'.format(sp, file), defects_id, sp])      \n",
    "train = pd.DataFrame(train_data, columns=['File', 'DiseaseID','Disease Type'])"
   ]
  },
  {
   "cell_type": "code",
   "execution_count": 27,
   "metadata": {
    "execution": {
     "iopub.execute_input": "2021-08-07T09:30:08.712646Z",
     "iopub.status.busy": "2021-08-07T09:30:08.711803Z",
     "iopub.status.idle": "2021-08-07T09:30:41.159325Z",
     "shell.execute_reply": "2021-08-07T09:30:41.159948Z",
     "shell.execute_reply.started": "2021-08-07T09:25:57.818004Z"
    },
    "papermill": {
     "duration": 32.473456,
     "end_time": "2021-08-07T09:30:41.160118",
     "exception": false,
     "start_time": "2021-08-07T09:30:08.686662",
     "status": "completed"
    },
    "tags": []
   },
   "outputs": [
    {
     "data": {
      "application/vnd.jupyter.widget-view+json": {
       "model_id": "bcb52a4e9bb04e2689ba38908d136522",
       "version_major": 2,
       "version_minor": 0
      },
      "text/plain": [
       "  0%|          | 0/7622 [00:00<?, ?it/s]"
      ]
     },
     "metadata": {},
     "output_type": "display_data"
    },
    {
     "name": "stdout",
     "output_type": "stream",
     "text": [
      "(7622, 64, 64, 3)\n",
      "(7622,)\n"
     ]
    }
   ],
   "source": [
    "IMAGE_SIZE = 64\n",
    "X = np.zeros((train.shape[0], IMAGE_SIZE, IMAGE_SIZE, 3))\n",
    "for i, file in tqdm(enumerate(train['File'].values), total = len(train)):\n",
    "    image = read_image(file)\n",
    "    if image is not None:\n",
    "        X[i] = resize_image(image, (IMAGE_SIZE, IMAGE_SIZE))\n",
    "X /= 255.        \n",
    "y = train['DiseaseID'].values\n",
    "print(X.shape)\n",
    "print(y.shape)"
   ]
  },
  {
   "cell_type": "code",
   "execution_count": 28,
   "metadata": {
    "execution": {
     "iopub.execute_input": "2021-08-07T09:30:41.199643Z",
     "iopub.status.busy": "2021-08-07T09:30:41.199035Z",
     "iopub.status.idle": "2021-08-07T09:30:41.280602Z",
     "shell.execute_reply": "2021-08-07T09:30:41.280098Z",
     "shell.execute_reply.started": "2021-08-07T09:26:28.451140Z"
    },
    "papermill": {
     "duration": 0.103696,
     "end_time": "2021-08-07T09:30:41.280714",
     "exception": false,
     "start_time": "2021-08-07T09:30:41.177018",
     "status": "completed"
    },
    "tags": []
   },
   "outputs": [],
   "source": [
    "x_train, x_test, y_train, y_test = train_test_split(X, y, test_size=0.2, stratify=y, random_state = 0)"
   ]
  },
  {
   "cell_type": "code",
   "execution_count": 29,
   "metadata": {
    "_cell_guid": "79c7e3d0-c299-4dcb-8224-4455121ee9b0",
    "_uuid": "d629ff2d2480ee46fbb7e2d37f6b5fab8052498a",
    "execution": {
     "iopub.execute_input": "2021-08-07T09:30:41.456024Z",
     "iopub.status.busy": "2021-08-07T09:30:41.455510Z",
     "iopub.status.idle": "2021-08-07T09:30:43.711465Z",
     "shell.execute_reply": "2021-08-07T09:30:43.712380Z",
     "shell.execute_reply.started": "2021-08-07T09:26:28.561889Z"
    },
    "papermill": {
     "duration": 2.287834,
     "end_time": "2021-08-07T09:30:43.712533",
     "exception": false,
     "start_time": "2021-08-07T09:30:41.424699",
     "status": "completed"
    },
    "tags": []
   },
   "outputs": [],
   "source": [
    "np.random.seed(0)\n",
    "\n",
    "model = models.Sequential()\n",
    "model.add(layers.Conv2D(64, (3, 3), activation='relu', input_shape=(64, 64, 3)))\n",
    "model.add(layers.MaxPool2D((2, 2)))\n",
    "model.add(layers.Conv2D(256, (3, 3), activation='relu'))\n",
    "model.add(layers.MaxPool2D((2, 2)))\n",
    "model.add(layers.Dropout(0.5))\n",
    "model.add(layers.Conv2D(256, (3, 3), activation='relu'))\n",
    "model.add(layers.MaxPool2D((2, 2)))\n",
    "model.add(layers.Conv2D(256, (3, 3), activation='relu'))\n",
    "\n",
    "model.add(layers.Dropout(0.5))\n",
    "model.add(layers.Conv2D(528, (3, 3), activation='relu'))\n",
    "model.add(layers.MaxPool2D((2, 2)))\n",
    "\n",
    "\n",
    "model.add(layers.Flatten())\n",
    "model.add(layers.Dense(128, activation='relu'))\n",
    "model.add(layers.Dense(64, activation='relu'))\n",
    "model.add(layers.Dense(32, activation='relu'))\n",
    "model.add(layers.Dense(1, activation='sigmoid'))"
   ]
  },
  {
   "cell_type": "code",
   "execution_count": 15,
   "metadata": {
    "execution": {
     "iopub.execute_input": "2021-08-07T09:30:44.342701Z",
     "iopub.status.busy": "2021-08-07T09:30:44.336644Z",
     "iopub.status.idle": "2021-08-07T09:30:44.351883Z",
     "shell.execute_reply": "2021-08-07T09:30:44.351162Z",
     "shell.execute_reply.started": "2021-08-07T09:26:31.453585Z"
    },
    "papermill": {
     "duration": 0.041186,
     "end_time": "2021-08-07T09:30:44.352041",
     "exception": false,
     "start_time": "2021-08-07T09:30:44.310855",
     "status": "completed"
    },
    "tags": []
   },
   "outputs": [],
   "source": [
    "#model.summary()"
   ]
  },
  {
   "cell_type": "code",
   "execution_count": 30,
   "metadata": {
    "execution": {
     "iopub.execute_input": "2021-08-07T09:30:44.440750Z",
     "iopub.status.busy": "2021-08-07T09:30:44.440101Z",
     "iopub.status.idle": "2021-08-07T09:31:04.327678Z",
     "shell.execute_reply": "2021-08-07T09:31:04.327167Z",
     "shell.execute_reply.started": "2021-08-07T09:26:31.472038Z"
    },
    "papermill": {
     "duration": 19.919674,
     "end_time": "2021-08-07T09:31:04.327797",
     "exception": false,
     "start_time": "2021-08-07T09:30:44.408123",
     "status": "completed"
    },
    "tags": []
   },
   "outputs": [
    {
     "name": "stdout",
     "output_type": "stream",
     "text": [
      "Epoch 1/30\n",
      "86/86 [==============================] - 151s 2s/step - loss: 0.9267 - accuracy: 0.6800 - val_loss: 0.3619 - val_accuracy: 0.7885\n",
      "Epoch 2/30\n",
      "86/86 [==============================] - 138s 2s/step - loss: 0.3624 - accuracy: 0.8061 - val_loss: 0.3358 - val_accuracy: 0.8492\n",
      "Epoch 3/30\n",
      "86/86 [==============================] - 129s 1s/step - loss: 0.3089 - accuracy: 0.8402 - val_loss: 0.2649 - val_accuracy: 0.8639\n",
      "Epoch 4/30\n",
      "86/86 [==============================] - 127s 1s/step - loss: 0.2976 - accuracy: 0.8618 - val_loss: 0.2102 - val_accuracy: 0.9033\n",
      "Epoch 5/30\n",
      "86/86 [==============================] - 126s 1s/step - loss: 0.3078 - accuracy: 0.8771 - val_loss: 0.1997 - val_accuracy: 0.9131\n",
      "Epoch 6/30\n",
      "86/86 [==============================] - 126s 1s/step - loss: 0.2301 - accuracy: 0.8963 - val_loss: 0.1995 - val_accuracy: 0.9049\n",
      "Epoch 7/30\n",
      "86/86 [==============================] - 147s 2s/step - loss: 0.2104 - accuracy: 0.8968 - val_loss: 0.2609 - val_accuracy: 0.8721\n",
      "Epoch 8/30\n",
      "86/86 [==============================] - 141s 2s/step - loss: 0.2188 - accuracy: 0.8913 - val_loss: 0.2289 - val_accuracy: 0.8869\n",
      "Epoch 9/30\n",
      "86/86 [==============================] - 128s 1s/step - loss: 0.1969 - accuracy: 0.9070 - val_loss: 0.1690 - val_accuracy: 0.9230\n",
      "Epoch 10/30\n",
      "86/86 [==============================] - 126s 1s/step - loss: 0.1918 - accuracy: 0.9198 - val_loss: 0.1620 - val_accuracy: 0.9361\n",
      "Epoch 11/30\n",
      "86/86 [==============================] - 125s 1s/step - loss: 0.1742 - accuracy: 0.9225 - val_loss: 0.1478 - val_accuracy: 0.9377\n",
      "Epoch 12/30\n",
      "86/86 [==============================] - 123s 1s/step - loss: 0.2022 - accuracy: 0.9210 - val_loss: 0.1670 - val_accuracy: 0.9213\n",
      "Epoch 13/30\n",
      "86/86 [==============================] - 123s 1s/step - loss: 0.1624 - accuracy: 0.9368 - val_loss: 0.1831 - val_accuracy: 0.9295\n",
      "Epoch 14/30\n",
      "86/86 [==============================] - 122s 1s/step - loss: 0.1533 - accuracy: 0.9382 - val_loss: 0.1201 - val_accuracy: 0.9475\n",
      "Epoch 15/30\n",
      "86/86 [==============================] - 122s 1s/step - loss: 0.1489 - accuracy: 0.9403 - val_loss: 0.1560 - val_accuracy: 0.9361\n",
      "Epoch 16/30\n",
      "86/86 [==============================] - 122s 1s/step - loss: 0.1408 - accuracy: 0.9388 - val_loss: 0.1509 - val_accuracy: 0.9426\n",
      "Epoch 17/30\n",
      "86/86 [==============================] - 121s 1s/step - loss: 0.1254 - accuracy: 0.9520 - val_loss: 0.1200 - val_accuracy: 0.9623\n",
      "Epoch 18/30\n",
      "86/86 [==============================] - 123s 1s/step - loss: 0.0928 - accuracy: 0.9656 - val_loss: 0.2078 - val_accuracy: 0.9131\n",
      "Epoch 19/30\n",
      "86/86 [==============================] - 121s 1s/step - loss: 0.1234 - accuracy: 0.9522 - val_loss: 0.1568 - val_accuracy: 0.9459\n",
      "Epoch 20/30\n",
      "86/86 [==============================] - 121s 1s/step - loss: 0.1000 - accuracy: 0.9657 - val_loss: 0.1313 - val_accuracy: 0.9525\n",
      "Epoch 21/30\n",
      "86/86 [==============================] - 121s 1s/step - loss: 0.1007 - accuracy: 0.9592 - val_loss: 0.1124 - val_accuracy: 0.9557\n",
      "Epoch 22/30\n",
      "86/86 [==============================] - 120s 1s/step - loss: 0.0911 - accuracy: 0.9720 - val_loss: 0.1464 - val_accuracy: 0.9459\n",
      "Epoch 23/30\n",
      "86/86 [==============================] - 120s 1s/step - loss: 0.0778 - accuracy: 0.9696 - val_loss: 0.1295 - val_accuracy: 0.9574\n",
      "Epoch 24/30\n",
      "86/86 [==============================] - 122s 1s/step - loss: 0.0974 - accuracy: 0.9704 - val_loss: 0.1432 - val_accuracy: 0.9607\n",
      "Epoch 25/30\n",
      "86/86 [==============================] - 121s 1s/step - loss: 0.0814 - accuracy: 0.9726 - val_loss: 0.1116 - val_accuracy: 0.9557\n",
      "Epoch 26/30\n",
      "86/86 [==============================] - 120s 1s/step - loss: 0.0757 - accuracy: 0.9719 - val_loss: 0.1994 - val_accuracy: 0.9557\n",
      "Epoch 27/30\n",
      "86/86 [==============================] - 123s 1s/step - loss: 0.0773 - accuracy: 0.9741 - val_loss: 0.1428 - val_accuracy: 0.9738\n",
      "Epoch 28/30\n",
      "86/86 [==============================] - 121s 1s/step - loss: 0.0545 - accuracy: 0.9782 - val_loss: 0.2213 - val_accuracy: 0.9459\n",
      "Epoch 29/30\n",
      "86/86 [==============================] - 122s 1s/step - loss: 0.2390 - accuracy: 0.9725 - val_loss: 0.1244 - val_accuracy: 0.9705\n",
      "Epoch 30/30\n",
      "86/86 [==============================] - 122s 1s/step - loss: 0.0690 - accuracy: 0.9757 - val_loss: 0.4445 - val_accuracy: 0.8934\n"
     ]
    }
   ],
   "source": [
    "model.compile(optimizer='rmsprop', loss='binary_crossentropy', metrics=['accuracy'])\n",
    "history = model.fit(x_train, y_train,\n",
    "                    batch_size=64, epochs=30,\n",
    "                    verbose=1,validation_split=0.1)"
   ]
  },
  {
   "cell_type": "code",
   "execution_count": 31,
   "metadata": {
    "execution": {
     "iopub.execute_input": "2021-08-07T09:31:04.586333Z",
     "iopub.status.busy": "2021-08-07T09:31:04.585211Z",
     "iopub.status.idle": "2021-08-07T09:31:04.972598Z",
     "shell.execute_reply": "2021-08-07T09:31:04.973370Z",
     "shell.execute_reply.started": "2021-08-07T09:26:52.022686Z"
    },
    "papermill": {
     "duration": 0.53078,
     "end_time": "2021-08-07T09:31:04.973589",
     "exception": false,
     "start_time": "2021-08-07T09:31:04.442809",
     "status": "completed"
    },
    "tags": []
   },
   "outputs": [
    {
     "name": "stderr",
     "output_type": "stream",
     "text": [
      "/Applications/anaconda3/lib/python3.7/site-packages/tensorflow/python/keras/engine/sequential.py:450: UserWarning: `model.predict_classes()` is deprecated and will be removed after 2021-01-01. Please use instead:* `np.argmax(model.predict(x), axis=-1)`,   if your model does multi-class classification   (e.g. if it uses a `softmax` last-layer activation).* `(model.predict(x) > 0.5).astype(\"int32\")`,   if your model does binary classification   (e.g. if it uses a `sigmoid` last-layer activation).\n",
      "  warnings.warn('`model.predict_classes()` is deprecated and '\n"
     ]
    }
   ],
   "source": [
    "y_pred = model.predict_classes(x_test)"
   ]
  },
  {
   "cell_type": "code",
   "execution_count": 34,
   "metadata": {},
   "outputs": [],
   "source": [
    "model.save('model.h5')"
   ]
  },
  {
   "cell_type": "code",
   "execution_count": 35,
   "metadata": {
    "execution": {
     "iopub.execute_input": "2021-08-07T09:31:05.676481Z",
     "iopub.status.busy": "2021-08-07T09:31:05.675657Z",
     "iopub.status.idle": "2021-08-07T09:31:05.840324Z",
     "shell.execute_reply": "2021-08-07T09:31:05.839896Z",
     "shell.execute_reply.started": "2021-08-07T09:26:52.317413Z"
    },
    "papermill": {
     "duration": 0.34196,
     "end_time": "2021-08-07T09:31:05.840423",
     "exception": false,
     "start_time": "2021-08-07T09:31:05.498463",
     "status": "completed"
    },
    "tags": []
   },
   "outputs": [
    {
     "data": {
      "image/png": "[encoded data removed]",
      "text/plain": [
       "<Figure size 432x288 with 1 Axes>"
      ]
     },
     "metadata": {
      "needs_background": "light"
     },
     "output_type": "display_data"
    }
   ],
   "source": [
    "fpr = dict()\n",
    "tpr = dict()\n",
    "roc_auc = dict()\n",
    "for i in range(2):\n",
    "    fpr[i], tpr[i], _ = roc_curve(y_test, y_pred)\n",
    "    roc_auc[i] = auc(fpr[i], tpr[i])\n",
    "\n",
    "    \n",
    "plt.figure()\n",
    "plt.plot(fpr[1], tpr[1])\n",
    "plt.xlim([0.0, 1.0])\n",
    "plt.ylim([0.0, 1.05])\n",
    "plt.xlabel('False Positive Rate')\n",
    "plt.ylabel('True Positive Rate')\n",
    "plt.title('Receiver operating characteristic')\n",
    "plt.show()"
   ]
  },
  {
   "cell_type": "code",
   "execution_count": 36,
   "metadata": {
    "execution": {
     "iopub.execute_input": "2021-08-07T09:31:06.054074Z",
     "iopub.status.busy": "2021-08-07T09:31:06.053481Z",
     "iopub.status.idle": "2021-08-07T09:31:06.059205Z",
     "shell.execute_reply": "2021-08-07T09:31:06.058657Z",
     "shell.execute_reply.started": "2021-08-07T09:26:52.506041Z"
    },
    "papermill": {
     "duration": 0.113819,
     "end_time": "2021-08-07T09:31:06.059298",
     "exception": false,
     "start_time": "2021-08-07T09:31:05.945479",
     "status": "completed"
    },
    "tags": []
   },
   "outputs": [],
   "source": [
    "tn, fp, fn, tp = confusion_matrix(y_test, y_pred).ravel()"
   ]
  },
  {
   "cell_type": "code",
   "execution_count": 37,
   "metadata": {
    "execution": {
     "iopub.execute_input": "2021-08-07T09:31:06.481765Z",
     "iopub.status.busy": "2021-08-07T09:31:06.480657Z",
     "iopub.status.idle": "2021-08-07T09:31:06.489129Z",
     "shell.execute_reply": "2021-08-07T09:31:06.488632Z",
     "shell.execute_reply.started": "2021-08-07T09:26:52.515333Z"
    },
    "papermill": {
     "duration": 0.118317,
     "end_time": "2021-08-07T09:31:06.489218",
     "exception": false,
     "start_time": "2021-08-07T09:31:06.370901",
     "status": "completed"
    },
    "tags": []
   },
   "outputs": [
    {
     "name": "stdout",
     "output_type": "stream",
     "text": [
      "f1 score =  0.870\n",
      "Precision =  0.801\n",
      "Test accuracy =  0.910\n",
      "Specificity =  0.890\n",
      "Sensitivity =  0.950\n"
     ]
    }
   ],
   "source": [
    "sp = tn/(tn+fp)\n",
    "sn = tp/(tp+fn)\n",
    "\n",
    "print('f1 score =  %.3f'%f1_score(y_test, y_pred))\n",
    "print('Precision =  %.3f'%precision_score(y_test, y_pred))\n",
    "print('Test accuracy =  %.3f'%accuracy_score(y_test, y_pred))\n",
    "print('Specificity =  %.3f'%sp)\n",
    "print('Sensitivity =  %.3f'%sn)"
   ]
  },
  {
   "cell_type": "code",
   "execution_count": null,
   "metadata": {
    "papermill": {
     "duration": 0.104231,
     "end_time": "2021-08-07T09:31:06.698453",
     "exception": false,
     "start_time": "2021-08-07T09:31:06.594222",
     "status": "completed"
    },
    "tags": []
   },
   "outputs": [],
   "source": []
  }
 ],
 "metadata": {
  "kernelspec": {
   "display_name": "Python 3",
   "language": "python",
   "name": "python3"
  },
  "language_info": {
   "codemirror_mode": {
    "name": "ipython",
    "version": 3
   },
   "file_extension": ".py",
   "mimetype": "text/x-python",
   "name": "python",
   "nbconvert_exporter": "python",
   "pygments_lexer": "ipython3",
   "version": "3.7.4"
  },
  "papermill": {
   "duration": 68.182786,
   "end_time": "2021-08-07T09:31:07.012031",
   "environment_variables": {},
   "exception": null,
   "input_path": "__notebook__.ipynb",
   "output_path": "__notebook__.ipynb",
   "parameters": {},
   "start_time": "2021-08-07T09:29:58.829245",
   "version": "2.1.0"
  },
  "widgets": {
   "application/vnd.jupyter.widget-state+json": {
    "state": {
     "1928e5f7d83e4725867c69edfbe16ff6": {
      "model_module": "@jupyter-widgets/base",
      "model_module_version": "1.2.0",
      "model_name": "LayoutModel",
      "state": {
       "_model_module": "@jupyter-widgets/base",
       "_model_module_version": "1.2.0",
       "_model_name": "LayoutModel",
       "_view_count": null,
       "_view_module": "@jupyter-widgets/base",
       "_view_module_version": "1.2.0",
       "_view_name": "LayoutView",
       "align_content": null,
       "align_items": null,
       "align_self": null,
       "border": null,
       "bottom": null,
       "display": null,
       "flex": null,
       "flex_flow": null,
       "grid_area": null,
       "grid_auto_columns": null,
       "grid_auto_flow": null,
       "grid_auto_rows": null,
       "grid_column": null,
       "grid_gap": null,
       "grid_row": null,
       "grid_template_areas": null,
       "grid_template_columns": null,
       "grid_template_rows": null,
       "height": null,
       "justify_content": null,
       "justify_items": null,
       "left": null,
       "margin": null,
       "max_height": null,
       "max_width": null,
       "min_height": null,
       "min_width": null,
       "object_fit": null,
       "object_position": null,
       "order": null,
       "overflow": null,
       "overflow_x": null,
       "overflow_y": null,
       "padding": null,
       "right": null,
       "top": null,
       "visibility": null,
       "width": null
      }
     },
     "5386f280a3854206af988c728a659e3f": {
      "model_module": "@jupyter-widgets/controls",
      "model_module_version": "1.5.0",
      "model_name": "HBoxModel",
      "state": {
       "_dom_classes": [],
       "_model_module": "@jupyter-widgets/controls",
       "_model_module_version": "1.5.0",
       "_model_name": "HBoxModel",
       "_view_count": null,
       "_view_module": "@jupyter-widgets/controls",
       "_view_module_version": "1.5.0",
       "_view_name": "HBoxView",
       "box_style": "",
       "children": [
        "IPY_MODEL_b56fce2646ef4386bdb05b39b6d1b199",
        "IPY_MODEL_6cb9c1837d7742efa9e787848c3cd9bd"
       ],
       "layout": "IPY_MODEL_7502a24e4b114a7bbae24bd5b93fac47"
      }
     },
     "6cb9c1837d7742efa9e787848c3cd9bd": {
      "model_module": "@jupyter-widgets/controls",
      "model_module_version": "1.5.0",
      "model_name": "HTMLModel",
      "state": {
       "_dom_classes": [],
       "_model_module": "@jupyter-widgets/controls",
       "_model_module_version": "1.5.0",
       "_model_name": "HTMLModel",
       "_view_count": null,
       "_view_module": "@jupyter-widgets/controls",
       "_view_module_version": "1.5.0",
       "_view_name": "HTMLView",
       "description": "",
       "description_tooltip": null,
       "layout": "IPY_MODEL_1928e5f7d83e4725867c69edfbe16ff6",
       "placeholder": "​",
       "style": "IPY_MODEL_f46de0154ebf488d9a289e4513870998",
       "value": " 2481/2481 [00:34&lt;00:00, 71.08it/s]"
      }
     },
     "7502a24e4b114a7bbae24bd5b93fac47": {
      "model_module": "@jupyter-widgets/base",
      "model_module_version": "1.2.0",
      "model_name": "LayoutModel",
      "state": {
       "_model_module": "@jupyter-widgets/base",
       "_model_module_version": "1.2.0",
       "_model_name": "LayoutModel",
       "_view_count": null,
       "_view_module": "@jupyter-widgets/base",
       "_view_module_version": "1.2.0",
       "_view_name": "LayoutView",
       "align_content": null,
       "align_items": null,
       "align_self": null,
       "border": null,
       "bottom": null,
       "display": null,
       "flex": null,
       "flex_flow": null,
       "grid_area": null,
       "grid_auto_columns": null,
       "grid_auto_flow": null,
       "grid_auto_rows": null,
       "grid_column": null,
       "grid_gap": null,
       "grid_row": null,
       "grid_template_areas": null,
       "grid_template_columns": null,
       "grid_template_rows": null,
       "height": null,
       "justify_content": null,
       "justify_items": null,
       "left": null,
       "margin": null,
       "max_height": null,
       "max_width": null,
       "min_height": null,
       "min_width": null,
       "object_fit": null,
       "object_position": null,
       "order": null,
       "overflow": null,
       "overflow_x": null,
       "overflow_y": null,
       "padding": null,
       "right": null,
       "top": null,
       "visibility": null,
       "width": null
      }
     },
     "94225455c4514320bb08c35e66c3ddce": {
      "model_module": "@jupyter-widgets/controls",
      "model_module_version": "1.5.0",
      "model_name": "ProgressStyleModel",
      "state": {
       "_model_module": "@jupyter-widgets/controls",
       "_model_module_version": "1.5.0",
       "_model_name": "ProgressStyleModel",
       "_view_count": null,
       "_view_module": "@jupyter-widgets/base",
       "_view_module_version": "1.2.0",
       "_view_name": "StyleView",
       "bar_color": null,
       "description_width": "initial"
      }
     },
     "abfc9a73f4ec4d2ebd9b4989950a5b73": {
      "model_module": "@jupyter-widgets/base",
      "model_module_version": "1.2.0",
      "model_name": "LayoutModel",
      "state": {
       "_model_module": "@jupyter-widgets/base",
       "_model_module_version": "1.2.0",
       "_model_name": "LayoutModel",
       "_view_count": null,
       "_view_module": "@jupyter-widgets/base",
       "_view_module_version": "1.2.0",
       "_view_name": "LayoutView",
       "align_content": null,
       "align_items": null,
       "align_self": null,
       "border": null,
       "bottom": null,
       "display": null,
       "flex": null,
       "flex_flow": null,
       "grid_area": null,
       "grid_auto_columns": null,
       "grid_auto_flow": null,
       "grid_auto_rows": null,
       "grid_column": null,
       "grid_gap": null,
       "grid_row": null,
       "grid_template_areas": null,
       "grid_template_columns": null,
       "grid_template_rows": null,
       "height": null,
       "justify_content": null,
       "justify_items": null,
       "left": null,
       "margin": null,
       "max_height": null,
       "max_width": null,
       "min_height": null,
       "min_width": null,
       "object_fit": null,
       "object_position": null,
       "order": null,
       "overflow": null,
       "overflow_x": null,
       "overflow_y": null,
       "padding": null,
       "right": null,
       "top": null,
       "visibility": null,
       "width": null
      }
     },
     "b56fce2646ef4386bdb05b39b6d1b199": {
      "model_module": "@jupyter-widgets/controls",
      "model_module_version": "1.5.0",
      "model_name": "FloatProgressModel",
      "state": {
       "_dom_classes": [],
       "_model_module": "@jupyter-widgets/controls",
       "_model_module_version": "1.5.0",
       "_model_name": "FloatProgressModel",
       "_view_count": null,
       "_view_module": "@jupyter-widgets/controls",
       "_view_module_version": "1.5.0",
       "_view_name": "ProgressView",
       "bar_style": "success",
       "description": "100%",
       "description_tooltip": null,
       "layout": "IPY_MODEL_abfc9a73f4ec4d2ebd9b4989950a5b73",
       "max": 2481,
       "min": 0,
       "orientation": "horizontal",
       "style": "IPY_MODEL_94225455c4514320bb08c35e66c3ddce",
       "value": 2481
      }
     },
     "f46de0154ebf488d9a289e4513870998": {
      "model_module": "@jupyter-widgets/controls",
      "model_module_version": "1.5.0",
      "model_name": "DescriptionStyleModel",
      "state": {
       "_model_module": "@jupyter-widgets/controls",
       "_model_module_version": "1.5.0",
       "_model_name": "DescriptionStyleModel",
       "_view_count": null,
       "_view_module": "@jupyter-widgets/base",
       "_view_module_version": "1.2.0",
       "_view_name": "StyleView",
       "description_width": ""
      }
     }
    },
    "version_major": 2,
    "version_minor": 0
   }
  }
 },
 "nbformat": 4,
 "nbformat_minor": 4
}
